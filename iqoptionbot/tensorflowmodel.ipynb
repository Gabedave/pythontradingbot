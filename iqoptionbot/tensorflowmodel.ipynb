{
 "metadata": {
  "language_info": {
   "codemirror_mode": {
    "name": "ipython",
    "version": 3
   },
   "file_extension": ".py",
   "mimetype": "text/x-python",
   "name": "python",
   "nbconvert_exporter": "python",
   "pygments_lexer": "ipython3",
   "version": "3.7.9-final"
  },
  "orig_nbformat": 2,
  "kernelspec": {
   "name": "python3",
   "display_name": "Python 3",
   "language": "python"
  }
 },
 "nbformat": 4,
 "nbformat_minor": 2,
 "cells": [
  {
   "cell_type": "code",
   "execution_count": 914,
   "metadata": {},
   "outputs": [
    {
     "output_type": "stream",
     "name": "stdout",
     "text": [
      "2.1.0\n"
     ]
    }
   ],
   "source": [
    "import tensorflow as tf\n",
    "import numpy as np\n",
    "import matplotlib.pyplot as plt\n",
    "import pandas as pd\n",
    "print(tf.__version__)"
   ]
  },
  {
   "cell_type": "code",
   "execution_count": 948,
   "metadata": {},
   "outputs": [
    {
     "output_type": "stream",
     "name": "stdout",
     "text": [
      "Index(['open', 'close', 'high', 'low', 'volume', 'sma30', 'sma14', 'sma6',\n       'macd_fast', 'macd_slow', 'macd_diff', 'macd', 'price_diff', 'rsi14',\n       'crossover_macd', 'crossover_sma', 'chopiness', 'band_upper',\n       'band_lower', 'stoch_%K', 'v20'],\n      dtype='object')\n"
     ]
    },
    {
     "output_type": "execute_result",
     "data": {
      "text/plain": [
       "4961"
      ]
     },
     "metadata": {},
     "execution_count": 948
    }
   ],
   "source": [
    "data = pd.read_fwf(\"dataframeEURUSD1.txt\")\n",
    "#new columns\n",
    "new_columns = ['datetime'] + list(data.columns.values[3:])\n",
    "a = data.iloc[:,1]\n",
    "b = data.iloc[:,2]\n",
    "c = a +' '+ b\n",
    "data.iloc[:,1] = c\n",
    "data.drop(index=0,columns=data.columns[[0,2]],inplace=True)\n",
    "data.reset_index(inplace=True,drop=True)\n",
    "data.columns = new_columns\n",
    "data['datetime'] = pd.to_datetime(data.datetime,format='%Y-%m-%d')\n",
    "data.set_index('datetime', inplace=True)\n",
    "data.dropna(inplace=True)\n",
    "#data.drop(data.iloc[:,2],inplace=True)\n",
    "dataframe = data\n",
    "print(dataframe.columns)\n",
    "len(dataframe)\n"
   ]
  },
  {
   "cell_type": "code",
   "execution_count": 981,
   "metadata": {},
   "outputs": [
    {
     "output_type": "execute_result",
     "data": {
      "text/plain": [
       "Index(['close', 'sma30', 'sma14', 'sma6', 'macd_diff', 'macd', 'price_diff',\n",
       "       'rsi14', 'band_upper', 'band_lower'],\n",
       "      dtype='object')"
      ]
     },
     "metadata": {},
     "execution_count": 981
    }
   ],
   "source": [
    "new_data = dataframe.drop(columns=data.columns[[0,4,8,9,14,15,-5,-2,-1]])\n",
    "new_data.tail().columns\n"
   ]
  },
  {
   "cell_type": "code",
   "execution_count": 1002,
   "metadata": {
    "tags": []
   },
   "outputs": [
    {
     "output_type": "execute_result",
     "data": {
      "text/plain": [
       "array([2, 0, 1, 2, 0, 2, 2, 0, 0, 2])"
      ]
     },
     "metadata": {},
     "execution_count": 1002
    }
   ],
   "source": [
    "g = int(0.9*len(new_data))\n",
    "h = 0.2*len(new_data)\n",
    "a = []\n",
    "b = []\n",
    "for i in range(len(new_data[:g])):\n",
    "    if i < 10: continue\n",
    "    step = new_data[(i-10):i]\n",
    "    b.append(new_data['price_diff'].shift(-1)[i])\n",
    "    #step.drop(columns=['price_diff'])\n",
    "    a.append(step.values)\n",
    "c = []\n",
    "d = []\n",
    "for i in range(len(new_data[g-10:])):\n",
    "    if i < 10: continue\n",
    "    i = i - 10 + g\n",
    "    step = new_data[(i-10):i]\n",
    "    d.append(new_data['price_diff'].shift(-1)[i])\n",
    "    #step.drop(columns=['price_diff'])\n",
    "    c.append(step.values)\n",
    "\n",
    "a = np.array(a)\n",
    "b = (np.sign(np.array(b))) + 1\n",
    "c = np.array(c)\n",
    "d = (np.sign(np.array(d))) + 1\n",
    "c = c[:-1]\n",
    "d = d[:-1]\n",
    "b = b.astype(int)\n",
    "d = d.astype(int)\n",
    "\n",
    "train_images = a\n",
    "train_labels = b\n",
    "test_images = c\n",
    "test_labels = d\n",
    "b[:10]\n",
    "\n"
   ]
  },
  {
   "cell_type": "code",
   "execution_count": 1003,
   "metadata": {},
   "outputs": [],
   "source": [
    "l1 = tf.keras.layers.Flatten(input_shape=(20,10))\n",
    "l2 = tf.keras.layers.Dense(700, activation='relu')\n",
    "l3 = tf.keras.layers.Dense(230, activation='relu')\n",
    "l4 = tf.keras.layers.Dense(100, activation='relu')\n",
    "l5 = tf.keras.layers.Dense(15, activation='relu')\n",
    "l6 = tf.keras.layers.Dense(3, activation ='softmax')"
   ]
  },
  {
   "cell_type": "code",
   "execution_count": 1004,
   "metadata": {},
   "outputs": [],
   "source": [
    "model = tf.keras.Sequential([\n",
    "    l1,\n",
    "    l2,\n",
    "    l3,\n",
    "    l4,\n",
    "    l5,\n",
    "    l6\n",
    "])"
   ]
  },
  {
   "cell_type": "code",
   "execution_count": 1005,
   "metadata": {},
   "outputs": [],
   "source": [
    "model.compile(optimizer='adam',\n",
    "              loss=tf.keras.losses.SparseCategoricalCrossentropy(),\n",
    "              metrics=['accuracy'])"
   ]
  },
  {
   "cell_type": "code",
   "execution_count": 1006,
   "metadata": {},
   "outputs": [
    {
     "output_type": "stream",
     "name": "stdout",
     "text": [
      "Train on 4454 samples\n",
      "Epoch 1/10\n",
      "4454/4454 [==============================] - 5s 1ms/sample - loss: 0.9416 - accuracy: 0.4791\n",
      "Epoch 2/10\n",
      "4454/4454 [==============================] - 1s 281us/sample - loss: 0.8760 - accuracy: 0.4652\n",
      "Epoch 3/10\n",
      "4454/4454 [==============================] - 1s 249us/sample - loss: 0.8811 - accuracy: 0.4762\n",
      "Epoch 4/10\n",
      "4454/4454 [==============================] - 1s 240us/sample - loss: 0.8663 - accuracy: 0.4802\n",
      "Epoch 5/10\n",
      "4454/4454 [==============================] - 1s 254us/sample - loss: 0.8636 - accuracy: 0.4809\n",
      "Epoch 6/10\n",
      "4454/4454 [==============================] - 1s 215us/sample - loss: 0.8628 - accuracy: 0.4744\n",
      "Epoch 7/10\n",
      "4454/4454 [==============================] - 1s 164us/sample - loss: 0.8598 - accuracy: 0.4778\n",
      "Epoch 8/10\n",
      "4454/4454 [==============================] - 1s 172us/sample - loss: 0.8658 - accuracy: 0.4856\n",
      "Epoch 9/10\n",
      "4454/4454 [==============================] - 1s 171us/sample - loss: 0.8601 - accuracy: 0.4897\n",
      "Epoch 10/10\n",
      "4454/4454 [==============================] - 1s 172us/sample - loss: 0.8598 - accuracy: 0.4771\n"
     ]
    },
    {
     "output_type": "execute_result",
     "data": {
      "text/plain": [
       "<tensorflow.python.keras.callbacks.History at 0x286cff562c8>"
      ]
     },
     "metadata": {},
     "execution_count": 1006
    }
   ],
   "source": [
    "model.fit(train_images, train_labels, epochs=10)"
   ]
  },
  {
   "cell_type": "code",
   "execution_count": 1007,
   "metadata": {},
   "outputs": [
    {
     "output_type": "stream",
     "name": "stdout",
     "text": [
      "496/496 - 0s - loss: 0.8847 - accuracy: 0.4677\n",
      "\n",
      "Test accuracy: 0.46774194\n"
     ]
    }
   ],
   "source": [
    "test_loss, test_acc = model.evaluate(test_images,  test_labels, verbose=2)\n",
    "\n",
    "print('\\nTest accuracy:', test_acc)"
   ]
  },
  {
   "cell_type": "code",
   "execution_count": 1008,
   "metadata": {},
   "outputs": [
    {
     "output_type": "execute_result",
     "data": {
      "text/plain": [
       "[2, 2, 2, 0, 0, 0, 2, 2, 0, 0, 0, 0, 0, 0, 0]"
      ]
     },
     "metadata": {},
     "execution_count": 1008
    }
   ],
   "source": [
    "preds = model.predict(test_images)\n",
    "k = [np.argmax(preds[i]) for i in range(len(preds))]\n",
    "k[-15:]"
   ]
  },
  {
   "cell_type": "code",
   "execution_count": 1009,
   "metadata": {},
   "outputs": [
    {
     "output_type": "execute_result",
     "data": {
      "text/plain": [
       "array([2, 0, 0, 2, 0, 0, 2, 2, 2, 1, 2, 0, 2, 0, 2])"
      ]
     },
     "metadata": {},
     "execution_count": 1009
    }
   ],
   "source": [
    "test_labels[-15:]"
   ]
  },
  {
   "cell_type": "code",
   "execution_count": null,
   "metadata": {},
   "outputs": [],
   "source": []
  }
 ]
}